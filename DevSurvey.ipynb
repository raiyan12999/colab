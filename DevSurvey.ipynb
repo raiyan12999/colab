{
  "nbformat": 4,
  "nbformat_minor": 0,
  "metadata": {
    "colab": {
      "provenance": []
    },
    "kernelspec": {
      "name": "python3",
      "display_name": "Python 3"
    },
    "language_info": {
      "name": "python"
    }
  },
  "cells": [
    {
      "cell_type": "code",
      "source": [
        "import pandas as pd\n",
        "\n",
        "df = pd.read_csv('survey_results_public.csv')\n"
      ],
      "metadata": {
        "id": "OcZw5jujvoJc"
      },
      "execution_count": null,
      "outputs": []
    },
    {
      "cell_type": "code",
      "source": [
        "df.head(2)"
      ],
      "metadata": {
        "colab": {
          "base_uri": "https://localhost:8080/",
          "height": 300
        },
        "id": "XA4QTkR1v6gg",
        "outputId": "44fe793e-809b-4f54-d6ba-de1d353d004e"
      },
      "execution_count": null,
      "outputs": [
        {
          "output_type": "execute_result",
          "data": {
            "text/plain": [
              "   ResponseId     Q120                      MainBranch              Age  \\\n",
              "0           1  I agree                   None of these  18-24 years old   \n",
              "1           2  I agree  I am a developer by profession  25-34 years old   \n",
              "\n",
              "            Employment RemoteWork  \\\n",
              "0                  NaN        NaN   \n",
              "1  Employed, full-time     Remote   \n",
              "\n",
              "                                    CodingActivities  \\\n",
              "0                                                NaN   \n",
              "1  Hobby;Contribute to open-source projects;Boots...   \n",
              "\n",
              "                                        EdLevel  \\\n",
              "0                                           NaN   \n",
              "1  Bachelor’s degree (B.A., B.S., B.Eng., etc.)   \n",
              "\n",
              "                                           LearnCode  \\\n",
              "0                                                NaN   \n",
              "1  Books / Physical media;Colleague;Friend or fam...   \n",
              "\n",
              "                                     LearnCodeOnline  ...       Frequency_1  \\\n",
              "0                                                NaN  ...               NaN   \n",
              "1  Formal documentation provided by the owner of ...  ...  1-2 times a week   \n",
              "\n",
              "        Frequency_2 Frequency_3        TimeSearching        TimeAnswering  \\\n",
              "0               NaN         NaN                  NaN                  NaN   \n",
              "1  10+ times a week       Never  15-30 minutes a day  15-30 minutes a day   \n",
              "\n",
              "                                    ProfessionalTech  \\\n",
              "0                                                NaN   \n",
              "1  DevOps function;Microservices;Automated testin...   \n",
              "\n",
              "                                            Industry           SurveyLength  \\\n",
              "0                                                NaN                    NaN   \n",
              "1  Information Services, IT, Software Development...  Appropriate in length   \n",
              "\n",
              "  SurveyEase ConvertedCompYearly  \n",
              "0        NaN                 NaN  \n",
              "1       Easy            285000.0  \n",
              "\n",
              "[2 rows x 84 columns]"
            ],
            "text/html": [
              "\n",
              "  <div id=\"df-a8d2735f-656a-4c6b-85b3-3157325d3171\" class=\"colab-df-container\">\n",
              "    <div>\n",
              "<style scoped>\n",
              "    .dataframe tbody tr th:only-of-type {\n",
              "        vertical-align: middle;\n",
              "    }\n",
              "\n",
              "    .dataframe tbody tr th {\n",
              "        vertical-align: top;\n",
              "    }\n",
              "\n",
              "    .dataframe thead th {\n",
              "        text-align: right;\n",
              "    }\n",
              "</style>\n",
              "<table border=\"1\" class=\"dataframe\">\n",
              "  <thead>\n",
              "    <tr style=\"text-align: right;\">\n",
              "      <th></th>\n",
              "      <th>ResponseId</th>\n",
              "      <th>Q120</th>\n",
              "      <th>MainBranch</th>\n",
              "      <th>Age</th>\n",
              "      <th>Employment</th>\n",
              "      <th>RemoteWork</th>\n",
              "      <th>CodingActivities</th>\n",
              "      <th>EdLevel</th>\n",
              "      <th>LearnCode</th>\n",
              "      <th>LearnCodeOnline</th>\n",
              "      <th>...</th>\n",
              "      <th>Frequency_1</th>\n",
              "      <th>Frequency_2</th>\n",
              "      <th>Frequency_3</th>\n",
              "      <th>TimeSearching</th>\n",
              "      <th>TimeAnswering</th>\n",
              "      <th>ProfessionalTech</th>\n",
              "      <th>Industry</th>\n",
              "      <th>SurveyLength</th>\n",
              "      <th>SurveyEase</th>\n",
              "      <th>ConvertedCompYearly</th>\n",
              "    </tr>\n",
              "  </thead>\n",
              "  <tbody>\n",
              "    <tr>\n",
              "      <th>0</th>\n",
              "      <td>1</td>\n",
              "      <td>I agree</td>\n",
              "      <td>None of these</td>\n",
              "      <td>18-24 years old</td>\n",
              "      <td>NaN</td>\n",
              "      <td>NaN</td>\n",
              "      <td>NaN</td>\n",
              "      <td>NaN</td>\n",
              "      <td>NaN</td>\n",
              "      <td>NaN</td>\n",
              "      <td>...</td>\n",
              "      <td>NaN</td>\n",
              "      <td>NaN</td>\n",
              "      <td>NaN</td>\n",
              "      <td>NaN</td>\n",
              "      <td>NaN</td>\n",
              "      <td>NaN</td>\n",
              "      <td>NaN</td>\n",
              "      <td>NaN</td>\n",
              "      <td>NaN</td>\n",
              "      <td>NaN</td>\n",
              "    </tr>\n",
              "    <tr>\n",
              "      <th>1</th>\n",
              "      <td>2</td>\n",
              "      <td>I agree</td>\n",
              "      <td>I am a developer by profession</td>\n",
              "      <td>25-34 years old</td>\n",
              "      <td>Employed, full-time</td>\n",
              "      <td>Remote</td>\n",
              "      <td>Hobby;Contribute to open-source projects;Boots...</td>\n",
              "      <td>Bachelor’s degree (B.A., B.S., B.Eng., etc.)</td>\n",
              "      <td>Books / Physical media;Colleague;Friend or fam...</td>\n",
              "      <td>Formal documentation provided by the owner of ...</td>\n",
              "      <td>...</td>\n",
              "      <td>1-2 times a week</td>\n",
              "      <td>10+ times a week</td>\n",
              "      <td>Never</td>\n",
              "      <td>15-30 minutes a day</td>\n",
              "      <td>15-30 minutes a day</td>\n",
              "      <td>DevOps function;Microservices;Automated testin...</td>\n",
              "      <td>Information Services, IT, Software Development...</td>\n",
              "      <td>Appropriate in length</td>\n",
              "      <td>Easy</td>\n",
              "      <td>285000.0</td>\n",
              "    </tr>\n",
              "  </tbody>\n",
              "</table>\n",
              "<p>2 rows × 84 columns</p>\n",
              "</div>\n",
              "    <div class=\"colab-df-buttons\">\n",
              "\n",
              "  <div class=\"colab-df-container\">\n",
              "    <button class=\"colab-df-convert\" onclick=\"convertToInteractive('df-a8d2735f-656a-4c6b-85b3-3157325d3171')\"\n",
              "            title=\"Convert this dataframe to an interactive table.\"\n",
              "            style=\"display:none;\">\n",
              "\n",
              "  <svg xmlns=\"http://www.w3.org/2000/svg\" height=\"24px\" viewBox=\"0 -960 960 960\">\n",
              "    <path d=\"M120-120v-720h720v720H120Zm60-500h600v-160H180v160Zm220 220h160v-160H400v160Zm0 220h160v-160H400v160ZM180-400h160v-160H180v160Zm440 0h160v-160H620v160ZM180-180h160v-160H180v160Zm440 0h160v-160H620v160Z\"/>\n",
              "  </svg>\n",
              "    </button>\n",
              "\n",
              "  <style>\n",
              "    .colab-df-container {\n",
              "      display:flex;\n",
              "      gap: 12px;\n",
              "    }\n",
              "\n",
              "    .colab-df-convert {\n",
              "      background-color: #E8F0FE;\n",
              "      border: none;\n",
              "      border-radius: 50%;\n",
              "      cursor: pointer;\n",
              "      display: none;\n",
              "      fill: #1967D2;\n",
              "      height: 32px;\n",
              "      padding: 0 0 0 0;\n",
              "      width: 32px;\n",
              "    }\n",
              "\n",
              "    .colab-df-convert:hover {\n",
              "      background-color: #E2EBFA;\n",
              "      box-shadow: 0px 1px 2px rgba(60, 64, 67, 0.3), 0px 1px 3px 1px rgba(60, 64, 67, 0.15);\n",
              "      fill: #174EA6;\n",
              "    }\n",
              "\n",
              "    .colab-df-buttons div {\n",
              "      margin-bottom: 4px;\n",
              "    }\n",
              "\n",
              "    [theme=dark] .colab-df-convert {\n",
              "      background-color: #3B4455;\n",
              "      fill: #D2E3FC;\n",
              "    }\n",
              "\n",
              "    [theme=dark] .colab-df-convert:hover {\n",
              "      background-color: #434B5C;\n",
              "      box-shadow: 0px 1px 3px 1px rgba(0, 0, 0, 0.15);\n",
              "      filter: drop-shadow(0px 1px 2px rgba(0, 0, 0, 0.3));\n",
              "      fill: #FFFFFF;\n",
              "    }\n",
              "  </style>\n",
              "\n",
              "    <script>\n",
              "      const buttonEl =\n",
              "        document.querySelector('#df-a8d2735f-656a-4c6b-85b3-3157325d3171 button.colab-df-convert');\n",
              "      buttonEl.style.display =\n",
              "        google.colab.kernel.accessAllowed ? 'block' : 'none';\n",
              "\n",
              "      async function convertToInteractive(key) {\n",
              "        const element = document.querySelector('#df-a8d2735f-656a-4c6b-85b3-3157325d3171');\n",
              "        const dataTable =\n",
              "          await google.colab.kernel.invokeFunction('convertToInteractive',\n",
              "                                                    [key], {});\n",
              "        if (!dataTable) return;\n",
              "\n",
              "        const docLinkHtml = 'Like what you see? Visit the ' +\n",
              "          '<a target=\"_blank\" href=https://colab.research.google.com/notebooks/data_table.ipynb>data table notebook</a>'\n",
              "          + ' to learn more about interactive tables.';\n",
              "        element.innerHTML = '';\n",
              "        dataTable['output_type'] = 'display_data';\n",
              "        await google.colab.output.renderOutput(dataTable, element);\n",
              "        const docLink = document.createElement('div');\n",
              "        docLink.innerHTML = docLinkHtml;\n",
              "        element.appendChild(docLink);\n",
              "      }\n",
              "    </script>\n",
              "  </div>\n",
              "\n",
              "\n",
              "    <div id=\"df-4eb751a4-cb39-4f53-bd3e-9e3e7c39508b\">\n",
              "      <button class=\"colab-df-quickchart\" onclick=\"quickchart('df-4eb751a4-cb39-4f53-bd3e-9e3e7c39508b')\"\n",
              "                title=\"Suggest charts\"\n",
              "                style=\"display:none;\">\n",
              "\n",
              "<svg xmlns=\"http://www.w3.org/2000/svg\" height=\"24px\"viewBox=\"0 0 24 24\"\n",
              "     width=\"24px\">\n",
              "    <g>\n",
              "        <path d=\"M19 3H5c-1.1 0-2 .9-2 2v14c0 1.1.9 2 2 2h14c1.1 0 2-.9 2-2V5c0-1.1-.9-2-2-2zM9 17H7v-7h2v7zm4 0h-2V7h2v10zm4 0h-2v-4h2v4z\"/>\n",
              "    </g>\n",
              "</svg>\n",
              "      </button>\n",
              "\n",
              "<style>\n",
              "  .colab-df-quickchart {\n",
              "      --bg-color: #E8F0FE;\n",
              "      --fill-color: #1967D2;\n",
              "      --hover-bg-color: #E2EBFA;\n",
              "      --hover-fill-color: #174EA6;\n",
              "      --disabled-fill-color: #AAA;\n",
              "      --disabled-bg-color: #DDD;\n",
              "  }\n",
              "\n",
              "  [theme=dark] .colab-df-quickchart {\n",
              "      --bg-color: #3B4455;\n",
              "      --fill-color: #D2E3FC;\n",
              "      --hover-bg-color: #434B5C;\n",
              "      --hover-fill-color: #FFFFFF;\n",
              "      --disabled-bg-color: #3B4455;\n",
              "      --disabled-fill-color: #666;\n",
              "  }\n",
              "\n",
              "  .colab-df-quickchart {\n",
              "    background-color: var(--bg-color);\n",
              "    border: none;\n",
              "    border-radius: 50%;\n",
              "    cursor: pointer;\n",
              "    display: none;\n",
              "    fill: var(--fill-color);\n",
              "    height: 32px;\n",
              "    padding: 0;\n",
              "    width: 32px;\n",
              "  }\n",
              "\n",
              "  .colab-df-quickchart:hover {\n",
              "    background-color: var(--hover-bg-color);\n",
              "    box-shadow: 0 1px 2px rgba(60, 64, 67, 0.3), 0 1px 3px 1px rgba(60, 64, 67, 0.15);\n",
              "    fill: var(--button-hover-fill-color);\n",
              "  }\n",
              "\n",
              "  .colab-df-quickchart-complete:disabled,\n",
              "  .colab-df-quickchart-complete:disabled:hover {\n",
              "    background-color: var(--disabled-bg-color);\n",
              "    fill: var(--disabled-fill-color);\n",
              "    box-shadow: none;\n",
              "  }\n",
              "\n",
              "  .colab-df-spinner {\n",
              "    border: 2px solid var(--fill-color);\n",
              "    border-color: transparent;\n",
              "    border-bottom-color: var(--fill-color);\n",
              "    animation:\n",
              "      spin 1s steps(1) infinite;\n",
              "  }\n",
              "\n",
              "  @keyframes spin {\n",
              "    0% {\n",
              "      border-color: transparent;\n",
              "      border-bottom-color: var(--fill-color);\n",
              "      border-left-color: var(--fill-color);\n",
              "    }\n",
              "    20% {\n",
              "      border-color: transparent;\n",
              "      border-left-color: var(--fill-color);\n",
              "      border-top-color: var(--fill-color);\n",
              "    }\n",
              "    30% {\n",
              "      border-color: transparent;\n",
              "      border-left-color: var(--fill-color);\n",
              "      border-top-color: var(--fill-color);\n",
              "      border-right-color: var(--fill-color);\n",
              "    }\n",
              "    40% {\n",
              "      border-color: transparent;\n",
              "      border-right-color: var(--fill-color);\n",
              "      border-top-color: var(--fill-color);\n",
              "    }\n",
              "    60% {\n",
              "      border-color: transparent;\n",
              "      border-right-color: var(--fill-color);\n",
              "    }\n",
              "    80% {\n",
              "      border-color: transparent;\n",
              "      border-right-color: var(--fill-color);\n",
              "      border-bottom-color: var(--fill-color);\n",
              "    }\n",
              "    90% {\n",
              "      border-color: transparent;\n",
              "      border-bottom-color: var(--fill-color);\n",
              "    }\n",
              "  }\n",
              "</style>\n",
              "\n",
              "      <script>\n",
              "        async function quickchart(key) {\n",
              "          const quickchartButtonEl =\n",
              "            document.querySelector('#' + key + ' button');\n",
              "          quickchartButtonEl.disabled = true;  // To prevent multiple clicks.\n",
              "          quickchartButtonEl.classList.add('colab-df-spinner');\n",
              "          try {\n",
              "            const charts = await google.colab.kernel.invokeFunction(\n",
              "                'suggestCharts', [key], {});\n",
              "          } catch (error) {\n",
              "            console.error('Error during call to suggestCharts:', error);\n",
              "          }\n",
              "          quickchartButtonEl.classList.remove('colab-df-spinner');\n",
              "          quickchartButtonEl.classList.add('colab-df-quickchart-complete');\n",
              "        }\n",
              "        (() => {\n",
              "          let quickchartButtonEl =\n",
              "            document.querySelector('#df-4eb751a4-cb39-4f53-bd3e-9e3e7c39508b button');\n",
              "          quickchartButtonEl.style.display =\n",
              "            google.colab.kernel.accessAllowed ? 'block' : 'none';\n",
              "        })();\n",
              "      </script>\n",
              "    </div>\n",
              "\n",
              "    </div>\n",
              "  </div>\n"
            ],
            "application/vnd.google.colaboratory.intrinsic+json": {
              "type": "dataframe",
              "variable_name": "df"
            }
          },
          "metadata": {},
          "execution_count": 8
        }
      ]
    },
    {
      "cell_type": "code",
      "source": [
        "df.shape"
      ],
      "metadata": {
        "colab": {
          "base_uri": "https://localhost:8080/"
        },
        "id": "JTRlUbk1wjl0",
        "outputId": "150d539d-d438-44dd-8196-0f2a3c31482c"
      },
      "execution_count": null,
      "outputs": [
        {
          "output_type": "execute_result",
          "data": {
            "text/plain": [
              "(80635, 84)"
            ]
          },
          "metadata": {},
          "execution_count": 9
        }
      ]
    },
    {
      "cell_type": "code",
      "source": [
        "df.columns"
      ],
      "metadata": {
        "colab": {
          "base_uri": "https://localhost:8080/"
        },
        "id": "YRaIIk3bwn8V",
        "outputId": "19701cf1-3629-4a00-a891-ab6e03bb9f76"
      },
      "execution_count": null,
      "outputs": [
        {
          "output_type": "execute_result",
          "data": {
            "text/plain": [
              "Index(['ResponseId', 'Q120', 'MainBranch', 'Age', 'Employment', 'RemoteWork',\n",
              "       'CodingActivities', 'EdLevel', 'LearnCode', 'LearnCodeOnline',\n",
              "       'LearnCodeCoursesCert', 'YearsCode', 'YearsCodePro', 'DevType',\n",
              "       'OrgSize', 'PurchaseInfluence', 'TechList', 'BuyNewTool', 'Country',\n",
              "       'Currency', 'CompTotal', 'LanguageHaveWorkedWith',\n",
              "       'LanguageWantToWorkWith', 'DatabaseHaveWorkedWith',\n",
              "       'DatabaseWantToWorkWith', 'PlatformHaveWorkedWith',\n",
              "       'PlatformWantToWorkWith', 'WebframeHaveWorkedWith',\n",
              "       'WebframeWantToWorkWith', 'MiscTechHaveWorkedWith',\n",
              "       'MiscTechWantToWorkWith', 'ToolsTechHaveWorkedWith',\n",
              "       'ToolsTechWantToWorkWith', 'NEWCollabToolsHaveWorkedWith',\n",
              "       'NEWCollabToolsWantToWorkWith', 'OpSysPersonal use',\n",
              "       'OpSysProfessional use', 'OfficeStackAsyncHaveWorkedWith',\n",
              "       'OfficeStackAsyncWantToWorkWith', 'OfficeStackSyncHaveWorkedWith',\n",
              "       'OfficeStackSyncWantToWorkWith', 'AISearchHaveWorkedWith',\n",
              "       'AISearchWantToWorkWith', 'AIDevHaveWorkedWith', 'AIDevWantToWorkWith',\n",
              "       'NEWSOSites', 'SOVisitFreq', 'SOAccount', 'SOPartFreq', 'SOComm',\n",
              "       'SOAI', 'AISelect', 'AISent', 'AIAcc', 'AIBen',\n",
              "       'AIToolInterested in Using', 'AIToolCurrently Using',\n",
              "       'AIToolNot interested in Using', 'AINextVery different',\n",
              "       'AINextNeither different nor similar', 'AINextSomewhat similar',\n",
              "       'AINextVery similar', 'AINextSomewhat different', 'TBranch', 'ICorPM',\n",
              "       'WorkExp', 'Knowledge_1', 'Knowledge_2', 'Knowledge_3', 'Knowledge_4',\n",
              "       'Knowledge_5', 'Knowledge_6', 'Knowledge_7', 'Knowledge_8',\n",
              "       'Frequency_1', 'Frequency_2', 'Frequency_3', 'TimeSearching',\n",
              "       'TimeAnswering', 'ProfessionalTech', 'Industry', 'SurveyLength',\n",
              "       'SurveyEase', 'ConvertedCompYearly'],\n",
              "      dtype='object')"
            ]
          },
          "metadata": {},
          "execution_count": 11
        }
      ]
    },
    {
      "cell_type": "code",
      "source": [
        "df.isnull().sum()\n",
        "#80635-2360"
      ],
      "metadata": {
        "colab": {
          "base_uri": "https://localhost:8080/",
          "height": 458
        },
        "id": "rY1WXliQwpRW",
        "outputId": "ac77ef7d-8d14-4b19-81e2-6381629db8ef"
      },
      "execution_count": null,
      "outputs": [
        {
          "output_type": "execute_result",
          "data": {
            "text/plain": [
              "ResponseId                 0\n",
              "Q120                       0\n",
              "MainBranch                 0\n",
              "Age                        0\n",
              "Employment              1134\n",
              "                       ...  \n",
              "ProfessionalTech       41893\n",
              "Industry               46530\n",
              "SurveyLength            2411\n",
              "SurveyEase              2360\n",
              "ConvertedCompYearly    36195\n",
              "Length: 84, dtype: int64"
            ],
            "text/html": [
              "<div>\n",
              "<style scoped>\n",
              "    .dataframe tbody tr th:only-of-type {\n",
              "        vertical-align: middle;\n",
              "    }\n",
              "\n",
              "    .dataframe tbody tr th {\n",
              "        vertical-align: top;\n",
              "    }\n",
              "\n",
              "    .dataframe thead th {\n",
              "        text-align: right;\n",
              "    }\n",
              "</style>\n",
              "<table border=\"1\" class=\"dataframe\">\n",
              "  <thead>\n",
              "    <tr style=\"text-align: right;\">\n",
              "      <th></th>\n",
              "      <th>0</th>\n",
              "    </tr>\n",
              "  </thead>\n",
              "  <tbody>\n",
              "    <tr>\n",
              "      <th>ResponseId</th>\n",
              "      <td>0</td>\n",
              "    </tr>\n",
              "    <tr>\n",
              "      <th>Q120</th>\n",
              "      <td>0</td>\n",
              "    </tr>\n",
              "    <tr>\n",
              "      <th>MainBranch</th>\n",
              "      <td>0</td>\n",
              "    </tr>\n",
              "    <tr>\n",
              "      <th>Age</th>\n",
              "      <td>0</td>\n",
              "    </tr>\n",
              "    <tr>\n",
              "      <th>Employment</th>\n",
              "      <td>1134</td>\n",
              "    </tr>\n",
              "    <tr>\n",
              "      <th>...</th>\n",
              "      <td>...</td>\n",
              "    </tr>\n",
              "    <tr>\n",
              "      <th>ProfessionalTech</th>\n",
              "      <td>41893</td>\n",
              "    </tr>\n",
              "    <tr>\n",
              "      <th>Industry</th>\n",
              "      <td>46530</td>\n",
              "    </tr>\n",
              "    <tr>\n",
              "      <th>SurveyLength</th>\n",
              "      <td>2411</td>\n",
              "    </tr>\n",
              "    <tr>\n",
              "      <th>SurveyEase</th>\n",
              "      <td>2360</td>\n",
              "    </tr>\n",
              "    <tr>\n",
              "      <th>ConvertedCompYearly</th>\n",
              "      <td>36195</td>\n",
              "    </tr>\n",
              "  </tbody>\n",
              "</table>\n",
              "<p>84 rows × 1 columns</p>\n",
              "</div><br><label><b>dtype:</b> int64</label>"
            ]
          },
          "metadata": {},
          "execution_count": 15
        }
      ]
    },
    {
      "cell_type": "code",
      "source": [
        "df_cleaned = df.dropna(subset=['SurveyEase'])\n"
      ],
      "metadata": {
        "id": "3KNJ43PkxMOl"
      },
      "execution_count": null,
      "outputs": []
    },
    {
      "cell_type": "code",
      "source": [
        "df_cleaned.shape"
      ],
      "metadata": {
        "colab": {
          "base_uri": "https://localhost:8080/"
        },
        "id": "PeZUCV7uykPJ",
        "outputId": "ea2577a1-dc2a-4920-cd85-39491dc2b915"
      },
      "execution_count": null,
      "outputs": [
        {
          "output_type": "execute_result",
          "data": {
            "text/plain": [
              "(78275, 84)"
            ]
          },
          "metadata": {},
          "execution_count": 17
        }
      ]
    },
    {
      "cell_type": "code",
      "source": [
        "df_cleaned = df_cleaned.dropna(subset=['SurveyEase'])\n",
        "df_cleaned.shape"
      ],
      "metadata": {
        "colab": {
          "base_uri": "https://localhost:8080/"
        },
        "id": "j-2TvcAbymLG",
        "outputId": "d0c5844d-161b-4dba-9568-fb36d1bd9f30"
      },
      "execution_count": null,
      "outputs": [
        {
          "output_type": "execute_result",
          "data": {
            "text/plain": [
              "(78275, 84)"
            ]
          },
          "metadata": {},
          "execution_count": 18
        }
      ]
    },
    {
      "cell_type": "code",
      "source": [
        "df_clean = df.dropna(subset=['YearsCode', 'EdLevel', 'ConvertedCompYearly', 'LanguageHaveWorkedWith'])"
      ],
      "metadata": {
        "id": "pR8OiSVcy9UG"
      },
      "execution_count": null,
      "outputs": []
    },
    {
      "cell_type": "code",
      "source": [
        "df_clean.shape"
      ],
      "metadata": {
        "colab": {
          "base_uri": "https://localhost:8080/"
        },
        "id": "S4ZPY5eszF4p",
        "outputId": "d5b99b49-5ef5-4199-8fb3-cd56309c05a8"
      },
      "execution_count": null,
      "outputs": [
        {
          "output_type": "execute_result",
          "data": {
            "text/plain": [
              "(44258, 84)"
            ]
          },
          "metadata": {},
          "execution_count": 20
        }
      ]
    },
    {
      "cell_type": "code",
      "source": [
        "# df_clean['LanguageHaveWorkedWith'].fillna('Unknown', inplace=True)\n",
        "df_clean[['YearsCode', 'EdLevel', 'ConvertedCompYearly', 'LanguageHaveWorkedWith']].isnull().sum()"
      ],
      "metadata": {
        "colab": {
          "base_uri": "https://localhost:8080/",
          "height": 437
        },
        "id": "-rtjZM0yzHyf",
        "outputId": "e7d5bc48-3986-400b-f513-5313295f1b73"
      },
      "execution_count": null,
      "outputs": [
        {
          "output_type": "stream",
          "name": "stderr",
          "text": [
            "/tmp/ipython-input-24-3601672587.py:1: FutureWarning: A value is trying to be set on a copy of a DataFrame or Series through chained assignment using an inplace method.\n",
            "The behavior will change in pandas 3.0. This inplace method will never work because the intermediate object on which we are setting values always behaves as a copy.\n",
            "\n",
            "For example, when doing 'df[col].method(value, inplace=True)', try using 'df.method({col: value}, inplace=True)' or df[col] = df[col].method(value) instead, to perform the operation inplace on the original object.\n",
            "\n",
            "\n",
            "  df_clean['LanguageHaveWorkedWith'].fillna('Unknown', inplace=True)\n",
            "/tmp/ipython-input-24-3601672587.py:1: SettingWithCopyWarning: \n",
            "A value is trying to be set on a copy of a slice from a DataFrame\n",
            "\n",
            "See the caveats in the documentation: https://pandas.pydata.org/pandas-docs/stable/user_guide/indexing.html#returning-a-view-versus-a-copy\n",
            "  df_clean['LanguageHaveWorkedWith'].fillna('Unknown', inplace=True)\n"
          ]
        },
        {
          "output_type": "execute_result",
          "data": {
            "text/plain": [
              "YearsCode                 0\n",
              "EdLevel                   0\n",
              "ConvertedCompYearly       0\n",
              "LanguageHaveWorkedWith    0\n",
              "dtype: int64"
            ],
            "text/html": [
              "<div>\n",
              "<style scoped>\n",
              "    .dataframe tbody tr th:only-of-type {\n",
              "        vertical-align: middle;\n",
              "    }\n",
              "\n",
              "    .dataframe tbody tr th {\n",
              "        vertical-align: top;\n",
              "    }\n",
              "\n",
              "    .dataframe thead th {\n",
              "        text-align: right;\n",
              "    }\n",
              "</style>\n",
              "<table border=\"1\" class=\"dataframe\">\n",
              "  <thead>\n",
              "    <tr style=\"text-align: right;\">\n",
              "      <th></th>\n",
              "      <th>0</th>\n",
              "    </tr>\n",
              "  </thead>\n",
              "  <tbody>\n",
              "    <tr>\n",
              "      <th>YearsCode</th>\n",
              "      <td>0</td>\n",
              "    </tr>\n",
              "    <tr>\n",
              "      <th>EdLevel</th>\n",
              "      <td>0</td>\n",
              "    </tr>\n",
              "    <tr>\n",
              "      <th>ConvertedCompYearly</th>\n",
              "      <td>0</td>\n",
              "    </tr>\n",
              "    <tr>\n",
              "      <th>LanguageHaveWorkedWith</th>\n",
              "      <td>0</td>\n",
              "    </tr>\n",
              "  </tbody>\n",
              "</table>\n",
              "</div><br><label><b>dtype:</b> int64</label>"
            ]
          },
          "metadata": {},
          "execution_count": 24
        }
      ]
    },
    {
      "cell_type": "code",
      "source": [
        "df_selected = df_clean[['YearsCode', 'EdLevel', 'ConvertedCompYearly', 'LanguageHaveWorkedWith']]\n",
        "df_selected.head(3)\n",
        "\n",
        "df_filtered = df_selected[(df_selected['ConvertedCompYearly'] >= 10000) & (df_selected['ConvertedCompYearly'] <= 1000000)]"
      ],
      "metadata": {
        "id": "ea4TYV0y0W_-"
      },
      "execution_count": null,
      "outputs": []
    },
    {
      "cell_type": "code",
      "source": [
        "df_filtered.shape\n",
        "df_filtered.head()"
      ],
      "metadata": {
        "colab": {
          "base_uri": "https://localhost:8080/",
          "height": 206
        },
        "id": "CFv5NRDs1aer",
        "outputId": "fc18b1e2-1116-4659-864d-2959d5dd3d32"
      },
      "execution_count": null,
      "outputs": [
        {
          "output_type": "execute_result",
          "data": {
            "text/plain": [
              "  YearsCode                                            EdLevel  \\\n",
              "1        18       Bachelor’s degree (B.A., B.S., B.Eng., etc.)   \n",
              "2        27       Bachelor’s degree (B.A., B.S., B.Eng., etc.)   \n",
              "3        12       Bachelor’s degree (B.A., B.S., B.Eng., etc.)   \n",
              "4         6       Bachelor’s degree (B.A., B.S., B.Eng., etc.)   \n",
              "5        21  Some college/university study without earning ...   \n",
              "\n",
              "   ConvertedCompYearly                             LanguageHaveWorkedWith  \n",
              "1             285000.0                         HTML/CSS;JavaScript;Python  \n",
              "2             250000.0                         Bash/Shell (all shells);Go  \n",
              "3             156000.0  Bash/Shell (all shells);HTML/CSS;JavaScript;PH...  \n",
              "4              23456.0                     HTML/CSS;JavaScript;TypeScript  \n",
              "5              96828.0  Bash/Shell (all shells);HTML/CSS;JavaScript;Ru...  "
            ],
            "text/html": [
              "\n",
              "  <div id=\"df-f9cd3e94-7824-4783-93c8-9527b5716c8d\" class=\"colab-df-container\">\n",
              "    <div>\n",
              "<style scoped>\n",
              "    .dataframe tbody tr th:only-of-type {\n",
              "        vertical-align: middle;\n",
              "    }\n",
              "\n",
              "    .dataframe tbody tr th {\n",
              "        vertical-align: top;\n",
              "    }\n",
              "\n",
              "    .dataframe thead th {\n",
              "        text-align: right;\n",
              "    }\n",
              "</style>\n",
              "<table border=\"1\" class=\"dataframe\">\n",
              "  <thead>\n",
              "    <tr style=\"text-align: right;\">\n",
              "      <th></th>\n",
              "      <th>YearsCode</th>\n",
              "      <th>EdLevel</th>\n",
              "      <th>ConvertedCompYearly</th>\n",
              "      <th>LanguageHaveWorkedWith</th>\n",
              "    </tr>\n",
              "  </thead>\n",
              "  <tbody>\n",
              "    <tr>\n",
              "      <th>1</th>\n",
              "      <td>18</td>\n",
              "      <td>Bachelor’s degree (B.A., B.S., B.Eng., etc.)</td>\n",
              "      <td>285000.0</td>\n",
              "      <td>HTML/CSS;JavaScript;Python</td>\n",
              "    </tr>\n",
              "    <tr>\n",
              "      <th>2</th>\n",
              "      <td>27</td>\n",
              "      <td>Bachelor’s degree (B.A., B.S., B.Eng., etc.)</td>\n",
              "      <td>250000.0</td>\n",
              "      <td>Bash/Shell (all shells);Go</td>\n",
              "    </tr>\n",
              "    <tr>\n",
              "      <th>3</th>\n",
              "      <td>12</td>\n",
              "      <td>Bachelor’s degree (B.A., B.S., B.Eng., etc.)</td>\n",
              "      <td>156000.0</td>\n",
              "      <td>Bash/Shell (all shells);HTML/CSS;JavaScript;PH...</td>\n",
              "    </tr>\n",
              "    <tr>\n",
              "      <th>4</th>\n",
              "      <td>6</td>\n",
              "      <td>Bachelor’s degree (B.A., B.S., B.Eng., etc.)</td>\n",
              "      <td>23456.0</td>\n",
              "      <td>HTML/CSS;JavaScript;TypeScript</td>\n",
              "    </tr>\n",
              "    <tr>\n",
              "      <th>5</th>\n",
              "      <td>21</td>\n",
              "      <td>Some college/university study without earning ...</td>\n",
              "      <td>96828.0</td>\n",
              "      <td>Bash/Shell (all shells);HTML/CSS;JavaScript;Ru...</td>\n",
              "    </tr>\n",
              "  </tbody>\n",
              "</table>\n",
              "</div>\n",
              "    <div class=\"colab-df-buttons\">\n",
              "\n",
              "  <div class=\"colab-df-container\">\n",
              "    <button class=\"colab-df-convert\" onclick=\"convertToInteractive('df-f9cd3e94-7824-4783-93c8-9527b5716c8d')\"\n",
              "            title=\"Convert this dataframe to an interactive table.\"\n",
              "            style=\"display:none;\">\n",
              "\n",
              "  <svg xmlns=\"http://www.w3.org/2000/svg\" height=\"24px\" viewBox=\"0 -960 960 960\">\n",
              "    <path d=\"M120-120v-720h720v720H120Zm60-500h600v-160H180v160Zm220 220h160v-160H400v160Zm0 220h160v-160H400v160ZM180-400h160v-160H180v160Zm440 0h160v-160H620v160ZM180-180h160v-160H180v160Zm440 0h160v-160H620v160Z\"/>\n",
              "  </svg>\n",
              "    </button>\n",
              "\n",
              "  <style>\n",
              "    .colab-df-container {\n",
              "      display:flex;\n",
              "      gap: 12px;\n",
              "    }\n",
              "\n",
              "    .colab-df-convert {\n",
              "      background-color: #E8F0FE;\n",
              "      border: none;\n",
              "      border-radius: 50%;\n",
              "      cursor: pointer;\n",
              "      display: none;\n",
              "      fill: #1967D2;\n",
              "      height: 32px;\n",
              "      padding: 0 0 0 0;\n",
              "      width: 32px;\n",
              "    }\n",
              "\n",
              "    .colab-df-convert:hover {\n",
              "      background-color: #E2EBFA;\n",
              "      box-shadow: 0px 1px 2px rgba(60, 64, 67, 0.3), 0px 1px 3px 1px rgba(60, 64, 67, 0.15);\n",
              "      fill: #174EA6;\n",
              "    }\n",
              "\n",
              "    .colab-df-buttons div {\n",
              "      margin-bottom: 4px;\n",
              "    }\n",
              "\n",
              "    [theme=dark] .colab-df-convert {\n",
              "      background-color: #3B4455;\n",
              "      fill: #D2E3FC;\n",
              "    }\n",
              "\n",
              "    [theme=dark] .colab-df-convert:hover {\n",
              "      background-color: #434B5C;\n",
              "      box-shadow: 0px 1px 3px 1px rgba(0, 0, 0, 0.15);\n",
              "      filter: drop-shadow(0px 1px 2px rgba(0, 0, 0, 0.3));\n",
              "      fill: #FFFFFF;\n",
              "    }\n",
              "  </style>\n",
              "\n",
              "    <script>\n",
              "      const buttonEl =\n",
              "        document.querySelector('#df-f9cd3e94-7824-4783-93c8-9527b5716c8d button.colab-df-convert');\n",
              "      buttonEl.style.display =\n",
              "        google.colab.kernel.accessAllowed ? 'block' : 'none';\n",
              "\n",
              "      async function convertToInteractive(key) {\n",
              "        const element = document.querySelector('#df-f9cd3e94-7824-4783-93c8-9527b5716c8d');\n",
              "        const dataTable =\n",
              "          await google.colab.kernel.invokeFunction('convertToInteractive',\n",
              "                                                    [key], {});\n",
              "        if (!dataTable) return;\n",
              "\n",
              "        const docLinkHtml = 'Like what you see? Visit the ' +\n",
              "          '<a target=\"_blank\" href=https://colab.research.google.com/notebooks/data_table.ipynb>data table notebook</a>'\n",
              "          + ' to learn more about interactive tables.';\n",
              "        element.innerHTML = '';\n",
              "        dataTable['output_type'] = 'display_data';\n",
              "        await google.colab.output.renderOutput(dataTable, element);\n",
              "        const docLink = document.createElement('div');\n",
              "        docLink.innerHTML = docLinkHtml;\n",
              "        element.appendChild(docLink);\n",
              "      }\n",
              "    </script>\n",
              "  </div>\n",
              "\n",
              "\n",
              "    <div id=\"df-aa7b681d-56b4-4146-9f82-22b6955bdb3e\">\n",
              "      <button class=\"colab-df-quickchart\" onclick=\"quickchart('df-aa7b681d-56b4-4146-9f82-22b6955bdb3e')\"\n",
              "                title=\"Suggest charts\"\n",
              "                style=\"display:none;\">\n",
              "\n",
              "<svg xmlns=\"http://www.w3.org/2000/svg\" height=\"24px\"viewBox=\"0 0 24 24\"\n",
              "     width=\"24px\">\n",
              "    <g>\n",
              "        <path d=\"M19 3H5c-1.1 0-2 .9-2 2v14c0 1.1.9 2 2 2h14c1.1 0 2-.9 2-2V5c0-1.1-.9-2-2-2zM9 17H7v-7h2v7zm4 0h-2V7h2v10zm4 0h-2v-4h2v4z\"/>\n",
              "    </g>\n",
              "</svg>\n",
              "      </button>\n",
              "\n",
              "<style>\n",
              "  .colab-df-quickchart {\n",
              "      --bg-color: #E8F0FE;\n",
              "      --fill-color: #1967D2;\n",
              "      --hover-bg-color: #E2EBFA;\n",
              "      --hover-fill-color: #174EA6;\n",
              "      --disabled-fill-color: #AAA;\n",
              "      --disabled-bg-color: #DDD;\n",
              "  }\n",
              "\n",
              "  [theme=dark] .colab-df-quickchart {\n",
              "      --bg-color: #3B4455;\n",
              "      --fill-color: #D2E3FC;\n",
              "      --hover-bg-color: #434B5C;\n",
              "      --hover-fill-color: #FFFFFF;\n",
              "      --disabled-bg-color: #3B4455;\n",
              "      --disabled-fill-color: #666;\n",
              "  }\n",
              "\n",
              "  .colab-df-quickchart {\n",
              "    background-color: var(--bg-color);\n",
              "    border: none;\n",
              "    border-radius: 50%;\n",
              "    cursor: pointer;\n",
              "    display: none;\n",
              "    fill: var(--fill-color);\n",
              "    height: 32px;\n",
              "    padding: 0;\n",
              "    width: 32px;\n",
              "  }\n",
              "\n",
              "  .colab-df-quickchart:hover {\n",
              "    background-color: var(--hover-bg-color);\n",
              "    box-shadow: 0 1px 2px rgba(60, 64, 67, 0.3), 0 1px 3px 1px rgba(60, 64, 67, 0.15);\n",
              "    fill: var(--button-hover-fill-color);\n",
              "  }\n",
              "\n",
              "  .colab-df-quickchart-complete:disabled,\n",
              "  .colab-df-quickchart-complete:disabled:hover {\n",
              "    background-color: var(--disabled-bg-color);\n",
              "    fill: var(--disabled-fill-color);\n",
              "    box-shadow: none;\n",
              "  }\n",
              "\n",
              "  .colab-df-spinner {\n",
              "    border: 2px solid var(--fill-color);\n",
              "    border-color: transparent;\n",
              "    border-bottom-color: var(--fill-color);\n",
              "    animation:\n",
              "      spin 1s steps(1) infinite;\n",
              "  }\n",
              "\n",
              "  @keyframes spin {\n",
              "    0% {\n",
              "      border-color: transparent;\n",
              "      border-bottom-color: var(--fill-color);\n",
              "      border-left-color: var(--fill-color);\n",
              "    }\n",
              "    20% {\n",
              "      border-color: transparent;\n",
              "      border-left-color: var(--fill-color);\n",
              "      border-top-color: var(--fill-color);\n",
              "    }\n",
              "    30% {\n",
              "      border-color: transparent;\n",
              "      border-left-color: var(--fill-color);\n",
              "      border-top-color: var(--fill-color);\n",
              "      border-right-color: var(--fill-color);\n",
              "    }\n",
              "    40% {\n",
              "      border-color: transparent;\n",
              "      border-right-color: var(--fill-color);\n",
              "      border-top-color: var(--fill-color);\n",
              "    }\n",
              "    60% {\n",
              "      border-color: transparent;\n",
              "      border-right-color: var(--fill-color);\n",
              "    }\n",
              "    80% {\n",
              "      border-color: transparent;\n",
              "      border-right-color: var(--fill-color);\n",
              "      border-bottom-color: var(--fill-color);\n",
              "    }\n",
              "    90% {\n",
              "      border-color: transparent;\n",
              "      border-bottom-color: var(--fill-color);\n",
              "    }\n",
              "  }\n",
              "</style>\n",
              "\n",
              "      <script>\n",
              "        async function quickchart(key) {\n",
              "          const quickchartButtonEl =\n",
              "            document.querySelector('#' + key + ' button');\n",
              "          quickchartButtonEl.disabled = true;  // To prevent multiple clicks.\n",
              "          quickchartButtonEl.classList.add('colab-df-spinner');\n",
              "          try {\n",
              "            const charts = await google.colab.kernel.invokeFunction(\n",
              "                'suggestCharts', [key], {});\n",
              "          } catch (error) {\n",
              "            console.error('Error during call to suggestCharts:', error);\n",
              "          }\n",
              "          quickchartButtonEl.classList.remove('colab-df-spinner');\n",
              "          quickchartButtonEl.classList.add('colab-df-quickchart-complete');\n",
              "        }\n",
              "        (() => {\n",
              "          let quickchartButtonEl =\n",
              "            document.querySelector('#df-aa7b681d-56b4-4146-9f82-22b6955bdb3e button');\n",
              "          quickchartButtonEl.style.display =\n",
              "            google.colab.kernel.accessAllowed ? 'block' : 'none';\n",
              "        })();\n",
              "      </script>\n",
              "    </div>\n",
              "\n",
              "    </div>\n",
              "  </div>\n"
            ],
            "application/vnd.google.colaboratory.intrinsic+json": {
              "type": "dataframe",
              "variable_name": "df_filtered",
              "summary": "{\n  \"name\": \"df_filtered\",\n  \"rows\": 41313,\n  \"fields\": [\n    {\n      \"column\": \"YearsCode\",\n      \"properties\": {\n        \"dtype\": \"category\",\n        \"num_unique_values\": 52,\n        \"samples\": [\n          \"32\",\n          \"28\",\n          \"44\"\n        ],\n        \"semantic_type\": \"\",\n        \"description\": \"\"\n      }\n    },\n    {\n      \"column\": \"EdLevel\",\n      \"properties\": {\n        \"dtype\": \"category\",\n        \"num_unique_values\": 8,\n        \"samples\": [\n          \"Some college/university study without earning a degree\",\n          \"Secondary school (e.g. American high school, German Realschule or Gymnasium, etc.)\",\n          \"Bachelor\\u2019s degree (B.A., B.S., B.Eng., etc.)\"\n        ],\n        \"semantic_type\": \"\",\n        \"description\": \"\"\n      }\n    },\n    {\n      \"column\": \"ConvertedCompYearly\",\n      \"properties\": {\n        \"dtype\": \"number\",\n        \"std\": 79004.30297552331,\n        \"min\": 10000.0,\n        \"max\": 1000000.0,\n        \"num_unique_values\": 6823,\n        \"samples\": [\n          10000.0,\n          88288.0,\n          34956.0\n        ],\n        \"semantic_type\": \"\",\n        \"description\": \"\"\n      }\n    },\n    {\n      \"column\": \"LanguageHaveWorkedWith\",\n      \"properties\": {\n        \"dtype\": \"category\",\n        \"num_unique_values\": 16450,\n        \"samples\": [\n          \"Bash/Shell (all shells);Go;HTML/CSS;Java;JavaScript;PHP;Scala;SQL;TypeScript\",\n          \"C;JavaScript;Perl\",\n          \"C#;C++;Java;Python;TypeScript\"\n        ],\n        \"semantic_type\": \"\",\n        \"description\": \"\"\n      }\n    }\n  ]\n}"
            }
          },
          "metadata": {},
          "execution_count": 28
        }
      ]
    },
    {
      "source": [
        "# @title EdLevel\n",
        "\n",
        "from matplotlib import pyplot as plt\n",
        "import seaborn as sns\n",
        "df_filtered.groupby('EdLevel').size().plot(kind='barh', color=sns.palettes.mpl_palette('Dark2'))\n",
        "plt.gca().spines[['top', 'right',]].set_visible(False)"
      ],
      "cell_type": "code",
      "execution_count": null,
      "outputs": [
        {
          "output_type": "display_data",
          "data": {
            "text/plain": [
              "<Figure size 640x480 with 1 Axes>"
            ],
            "image/png": "[encoded data removed]"
          },
          "metadata": {}
        }
      ],
      "metadata": {
        "colab": {
          "base_uri": "https://localhost:8080/",
          "height": 411
        },
        "id": "wH88Qa9w1yoD",
        "outputId": "f732579a-b47a-4f00-e47c-50aa34fa1628"
      }
    },
    {
      "source": [
        "# @title EdLevel vs ConvertedCompYearly\n",
        "\n",
        "from matplotlib import pyplot as plt\n",
        "import seaborn as sns\n",
        "figsize = (12, 1.2 * len(df_filtered['EdLevel'].unique()))\n",
        "plt.figure(figsize=figsize)\n",
        "sns.violinplot(df_filtered, x='ConvertedCompYearly', y='EdLevel', inner='box', palette='Dark2')\n",
        "sns.despine(top=True, right=True, bottom=True, left=True)"
      ],
      "cell_type": "code",
      "execution_count": null,
      "outputs": [
        {
          "output_type": "stream",
          "name": "stderr",
          "text": [
            "/tmp/ipython-input-29-711162516.py:7: FutureWarning: \n",
            "\n",
            "Passing `palette` without assigning `hue` is deprecated and will be removed in v0.14.0. Assign the `y` variable to `hue` and set `legend=False` for the same effect.\n",
            "\n",
            "  sns.violinplot(df_filtered, x='ConvertedCompYearly', y='EdLevel', inner='box', palette='Dark2')\n"
          ]
        },
        {
          "output_type": "display_data",
          "data": {
            "text/plain": [
              "<Figure size 1200x960 with 1 Axes>"
            ],
            "image/png": "[encoded data removed]"
          },
          "metadata": {}
        }
      ],
      "metadata": {
        "colab": {
          "base_uri": "https://localhost:8080/",
          "height": 688
        },
        "id": "IY4tNbrD1oyU",
        "outputId": "ebebd520-5d84-4c3b-a706-9645d73e2da4"
      }
    },
    {
      "cell_type": "code",
      "source": [
        "df_filtered['Languages'] = df_filtered['LanguageHaveWorkedWith'].str.split(';')"
      ],
      "metadata": {
        "colab": {
          "base_uri": "https://localhost:8080/"
        },
        "id": "8ZgiZ5ug2AMz",
        "outputId": "5c2bbaba-42de-4c4f-86d5-20981eb2954a"
      },
      "execution_count": null,
      "outputs": [
        {
          "output_type": "stream",
          "name": "stderr",
          "text": [
            "/tmp/ipython-input-34-4250110868.py:1: SettingWithCopyWarning: \n",
            "A value is trying to be set on a copy of a slice from a DataFrame.\n",
            "Try using .loc[row_indexer,col_indexer] = value instead\n",
            "\n",
            "See the caveats in the documentation: https://pandas.pydata.org/pandas-docs/stable/user_guide/indexing.html#returning-a-view-versus-a-copy\n",
            "  df_filtered['Languages'] = df_filtered['LanguageHaveWorkedWith'].str.split(';')\n"
          ]
        }
      ]
    }
  ]
}